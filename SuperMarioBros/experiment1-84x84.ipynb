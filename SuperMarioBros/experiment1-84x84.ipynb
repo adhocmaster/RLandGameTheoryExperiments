{
 "cells": [
  {
   "cell_type": "code",
   "execution_count": 1,
   "metadata": {},
   "outputs": [
    {
     "data": {
      "text/plain": [
       "'cuda'"
      ]
     },
     "execution_count": 1,
     "metadata": {},
     "output_type": "execute_result"
    }
   ],
   "source": [
    "import torch\n",
    "from torch import nn\n",
    "from torchvision import transforms as T\n",
    "from PIL import Image\n",
    "import numpy as np\n",
    "from pathlib import Path\n",
    "from collections import deque\n",
    "import random, datetime, os, copy\n",
    "device = \"cuda\" if torch.cuda.is_available() else \"cpu\"\n",
    "device"
   ]
  },
  {
   "cell_type": "code",
   "execution_count": 2,
   "metadata": {},
   "outputs": [],
   "source": [
    "%reload_ext autoreload\n",
    "%autoreload 2\n",
    "import gym\n",
    "from gym.spaces import Box\n",
    "from gym.wrappers import FrameStack\n",
    "from nes_py.wrappers import JoypadSpace\n",
    "import gym_super_mario_bros\n",
    "import gym_super_mario_bros.actions as JoypadActions\n",
    "\n",
    "from lib.env_wrappers import EnvWrapperFactory\n",
    "from agents.ForgetfulAgent import ForgetfulAgent\n",
    "from lib.MetricLogger import MetricLogger\n"
   ]
  },
  {
   "cell_type": "code",
   "execution_count": 3,
   "metadata": {},
   "outputs": [],
   "source": [
    "imageShape = (84, 84)\n",
    "actionShape = len(JoypadActions.SIMPLE_MOVEMENT)"
   ]
  },
  {
   "cell_type": "code",
   "execution_count": 13,
   "metadata": {},
   "outputs": [
    {
     "name": "stdout",
     "output_type": "stream",
     "text": [
      "shape before any transformations: (240, 256, 3)\n",
      "shape after grayscaler: (240, 256)\n",
      "shape after resizer: (84, 84)\n",
      "shape after all transformations: (5, 84, 84)\n",
      "(5, 84, 84)\n"
     ]
    }
   ],
   "source": [
    "%reload_ext autoreload\n",
    "%autoreload 2\n",
    "env = gym_super_mario_bros.make('SuperMarioBros-v0')\n",
    "env = JoypadSpace(env, JoypadActions.SIMPLE_MOVEMENT)\n",
    "env = EnvWrapperFactory.convert(env, shape=imageShape)\n",
    "state = env.reset()\n",
    "print(state.shape)"
   ]
  },
  {
   "cell_type": "code",
   "execution_count": 14,
   "metadata": {},
   "outputs": [
    {
     "data": {
      "text/plain": [
       "(5, 84, 84)"
      ]
     },
     "execution_count": 14,
     "metadata": {},
     "output_type": "execute_result"
    }
   ],
   "source": [
    "env.observation_space.shape"
   ]
  },
  {
   "cell_type": "code",
   "execution_count": 15,
   "metadata": {},
   "outputs": [
    {
     "name": "stdout",
     "output_type": "stream",
     "text": [
      "ForgetfulAgent-CNN84x84\n"
     ]
    }
   ],
   "source": [
    "%reload_ext autoreload\n",
    "%autoreload 2\n",
    "agent = ForgetfulAgent(state_shape=env.observation_space.shape, action_shape=actionShape, device=device, net_name=\"CNN84x84\")\n",
    "save_dir = Path(\"logs\") / datetime.datetime.now().strftime(\"%Y-%m-%dT%H-%M-%S\")\n",
    "save_dir.mkdir(parents=True)\n",
    "logger = MetricLogger(save_dir)\n",
    "print(agent.name)"
   ]
  },
  {
   "cell_type": "code",
   "execution_count": 17,
   "metadata": {},
   "outputs": [
    {
     "name": "stdout",
     "output_type": "stream",
     "text": [
      "starting episode: 0\n",
      "Episode 0 - Step 1878 - Epsilon 0.9990614404880913 - Mean Reward 2212.5 - Mean Length 938.5 - Mean Loss 1.244 - Mean Q Value 0.219 - Time Delta 27.577 - Time 2022-03-30T15:33:19\n",
      "starting episode: 1\n",
      "starting episode: 2\n",
      "starting episode: 3\n",
      "starting episode: 4\n",
      "starting episode: 5\n",
      "starting episode: 6\n",
      "q:2.087984800338745, loss=1.0603065490722656\n",
      "starting episode: 7\n",
      "starting episode: 8\n",
      "starting episode: 9\n",
      "starting episode: 10\n",
      "Episode 10 - Step 10963 - Epsilon 0.9945334946459722 - Mean Reward 1793.917 - Mean Length 913.5 - Mean Loss 1.583 - Mean Q Value 1.715 - Time Delta 88.265 - Time 2022-03-30T15:34:47\n",
      "starting episode: 11\n",
      "q:2.4226925373077393, loss=0.9642242193222046\n",
      "starting episode: 12\n",
      "starting episode: 13\n",
      "starting episode: 14\n",
      "starting episode: 15\n",
      "q:3.2718420028686523, loss=0.9225887060165405\n",
      "starting episode: 16\n",
      "starting episode: 17\n",
      "starting episode: 18\n",
      "starting episode: 19\n"
     ]
    },
    {
     "data": {
      "text/plain": [
       "<Figure size 432x288 with 0 Axes>"
      ]
     },
     "metadata": {},
     "output_type": "display_data"
    }
   ],
   "source": [
    "# try training\n",
    "\n",
    "maxStepsPerEpisode = 20000\n",
    "learnCount = 0\n",
    "episodes = 20\n",
    "\n",
    "for eps in range(episodes):\n",
    "    state = env.reset()\n",
    "    print(f\"starting episode: {eps}\")\n",
    "    for i in range(maxStepsPerEpisode):\n",
    "\n",
    "        action = agent.getAction(state)\n",
    "        next_state, reward, done, info = env.step(action)\n",
    "\n",
    "        # add to memory\n",
    "        agent.cache(state, next_state, action, reward, done)\n",
    "\n",
    "        q, loss = agent.learn()\n",
    "        \n",
    "        logger.log_step(reward, loss, q)\n",
    "        \n",
    "        state = next_state\n",
    "\n",
    "        if q is not None:\n",
    "            learnCount += 1\n",
    "            if learnCount % 1000 == 0:\n",
    "                print(f\"q:{q}, loss={loss}\")\n",
    "        \n",
    "        if done or info[\"flag_get\"]:\n",
    "            break\n",
    "            \n",
    "    # print(f\"done: {done},\\n info: {info}\")\n",
    "    logger.log_episode()\n",
    "    if eps % 10 == 0:\n",
    "        logger.record(episode=eps, epsilon=agent.exploration_rate, step=agent.current_step)\n",
    "        "
   ]
  },
  {
   "cell_type": "code",
   "execution_count": 18,
   "metadata": {},
   "outputs": [
    {
     "name": "stdout",
     "output_type": "stream",
     "text": [
      "shape before any transformations: (240, 256, 3)\n",
      "shape after grayscaler: (240, 256)\n",
      "shape after resizer: (84, 84)\n",
      "shape after all transformations: (5, 84, 84)\n"
     ]
    }
   ],
   "source": [
    "\n",
    "env = gym_super_mario_bros.make('SuperMarioBros-v0')\n",
    "env = JoypadSpace(env, JoypadActions.SIMPLE_MOVEMENT)\n",
    "env = EnvWrapperFactory.convert(env, shape=imageShape)\n",
    "\n",
    "\n",
    "done = True\n",
    "for step in range(1000):\n",
    "    if done:\n",
    "        state = env.reset()\n",
    "    state, reward, done, info = env.step(agent.getAction(state))\n",
    "    env.render()\n",
    "env.close()"
   ]
  },
  {
   "cell_type": "code",
   "execution_count": 22,
   "metadata": {},
   "outputs": [],
   "source": [
    "def saveCheckpoint(name, epoch, model, optimizer):\n",
    "    \n",
    "    torch.save({\n",
    "        \"epoch\": epoch,\n",
    "        \"model_state_dict\": model.state_dict(),\n",
    "        \"optimizer_state_dict\": optimizer.state_dict(),\n",
    "        \"exploration_rate\": agent.exploration_rate\n",
    "        \n",
    "    # }, f\"{model.name}-checkpoint-{epoch}\")\n",
    "    }, f\"{name}-checkpoint-{epoch}.pytorch\")"
   ]
  },
  {
   "cell_type": "code",
   "execution_count": 23,
   "metadata": {},
   "outputs": [],
   "source": [
    "# save_path = (\n",
    "#             save_dir / f\"mario_net_{int(agent.current_step // agent.onlinePeriod)}.chkpt\"\n",
    "#         )\n",
    "# torch.save(\n",
    "#     dict(model=agent.net.state_dict(), exploration_rate=agent.exploration_rate),\n",
    "#     save_path,\n",
    "# )\n",
    "saveCheckpoint(agent.name, 20, agent.net, agent.optimizer)"
   ]
  },
  {
   "cell_type": "code",
   "execution_count": null,
   "metadata": {},
   "outputs": [],
   "source": []
  }
 ],
 "metadata": {
  "kernelspec": {
   "display_name": "Python 3 (ipykernel)",
   "language": "python",
   "name": "python3"
  },
  "language_info": {
   "codemirror_mode": {
    "name": "ipython",
    "version": 3
   },
   "file_extension": ".py",
   "mimetype": "text/x-python",
   "name": "python",
   "nbconvert_exporter": "python",
   "pygments_lexer": "ipython3",
   "version": "3.7.9"
  }
 },
 "nbformat": 4,
 "nbformat_minor": 4
}
