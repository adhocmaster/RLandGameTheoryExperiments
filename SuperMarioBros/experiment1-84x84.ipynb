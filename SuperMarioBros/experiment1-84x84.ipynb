{
 "cells": [
  {
   "cell_type": "code",
   "execution_count": 21,
   "metadata": {},
   "outputs": [],
   "source": [
    "import torch\n",
    "from torch import nn\n",
    "from torchvision import transforms as T\n",
    "from PIL import Image\n",
    "import numpy as np\n",
    "from pathlib import Path\n",
    "from collections import deque\n",
    "import random, datetime, os, copy\n",
    "device = \"cuda\" if torch.cuda.is_available() else \"cpu\"\n",
    "device\n",
    "\n",
    "from time import sleep\n",
    "from tqdm import tqdm"
   ]
  },
  {
   "cell_type": "code",
   "execution_count": 22,
   "metadata": {},
   "outputs": [],
   "source": [
    "%reload_ext autoreload\n",
    "%autoreload 2\n",
    "import gym\n",
    "from gym.spaces import Box\n",
    "from gym.wrappers import FrameStack\n",
    "from nes_py.wrappers import JoypadSpace\n",
    "import gym_super_mario_bros\n",
    "import gym_super_mario_bros.actions as JoypadActions\n",
    "\n",
    "from lib.env_wrappers import EnvWrapperFactory\n",
    "from agents.ForgetfulAgent import ForgetfulAgent\n",
    "from lib.MetricLogger import MetricLogger\n"
   ]
  },
  {
   "cell_type": "code",
   "execution_count": 23,
   "metadata": {},
   "outputs": [],
   "source": [
    "imageShape = (84, 84)\n",
    "actionShape = len(JoypadActions.SIMPLE_MOVEMENT)"
   ]
  },
  {
   "cell_type": "code",
   "execution_count": 24,
   "metadata": {},
   "outputs": [
    {
     "name": "stdout",
     "output_type": "stream",
     "text": [
      "shape before any transformations: (240, 256, 3)\n",
      "shape after grayscaler: (240, 256)\n",
      "shape after resizer: (84, 84)\n",
      "shape after all transformations: (5, 84, 84)\n",
      "(5, 84, 84)\n"
     ]
    }
   ],
   "source": [
    "%reload_ext autoreload\n",
    "%autoreload 2\n",
    "env = gym_super_mario_bros.make('SuperMarioBros-v0')\n",
    "env = JoypadSpace(env, JoypadActions.SIMPLE_MOVEMENT)\n",
    "env = EnvWrapperFactory.convert(env, shape=imageShape)\n",
    "state = env.reset()\n",
    "print(state.shape)"
   ]
  },
  {
   "cell_type": "code",
   "execution_count": 25,
   "metadata": {},
   "outputs": [
    {
     "data": {
      "text/plain": [
       "(5, 84, 84)"
      ]
     },
     "execution_count": 25,
     "metadata": {},
     "output_type": "execute_result"
    }
   ],
   "source": [
    "env.observation_space.shape"
   ]
  },
  {
   "cell_type": "code",
   "execution_count": 26,
   "metadata": {},
   "outputs": [
    {
     "name": "stdout",
     "output_type": "stream",
     "text": [
      "ForgetfulAgent-CNN84x84\n"
     ]
    }
   ],
   "source": [
    "%reload_ext autoreload\n",
    "%autoreload 2\n",
    "agent = ForgetfulAgent(state_shape=env.observation_space.shape, action_shape=actionShape, device=device, net_name=\"CNN84x84\")\n",
    "save_dir = Path(\"logs\") / datetime.datetime.now().strftime(\"%Y-%m-%dT%H-%M-%S\")\n",
    "save_dir.mkdir(parents=True)\n",
    "logger = MetricLogger(save_dir)\n",
    "print(agent.name)"
   ]
  },
  {
   "cell_type": "code",
   "execution_count": 27,
   "metadata": {},
   "outputs": [
    {
     "name": "stderr",
     "output_type": "stream",
     "text": [
      "Episode 534:   5%|▌         | 533/10000 [1:29:09<24:08:04,  9.18s/it, episode reward :2926.0, max X: 3161]"
     ]
    },
    {
     "name": "stdout",
     "output_type": "stream",
     "text": [
      "reached a flag\n",
      "{'coins': 2, 'flag_get': True, 'life': 2, 'score': 1000, 'stage': 1, 'status': 'small', 'time': 205, 'world': 1, 'x_pos': 3161, 'y_pos': 95}\n"
     ]
    },
    {
     "name": "stderr",
     "output_type": "stream",
     "text": [
      "Episode 666:   7%|▋         | 665/10000 [1:48:00<49:23:33, 19.05s/it, episode reward :2631.0, max X: 3161]"
     ]
    },
    {
     "name": "stdout",
     "output_type": "stream",
     "text": [
      "reached a flag\n",
      "{'coins': 0, 'flag_get': True, 'life': 0, 'score': 1000, 'stage': 1, 'status': 'small', 'time': 63, 'world': 1, 'x_pos': 3161, 'y_pos': 116}\n"
     ]
    },
    {
     "name": "stderr",
     "output_type": "stream",
     "text": [
      "Episode 753:   8%|▊         | 752/10000 [2:01:11<18:21:56,  7.15s/it, episode reward :3584.0, max X: 3161]"
     ]
    },
    {
     "name": "stdout",
     "output_type": "stream",
     "text": [
      "reached a flag\n",
      "{'coins': 2, 'flag_get': True, 'life': 1, 'score': 1400, 'stage': 1, 'status': 'small', 'time': 269, 'world': 1, 'x_pos': 3161, 'y_pos': 117}\n"
     ]
    },
    {
     "name": "stderr",
     "output_type": "stream",
     "text": [
      "Episode 1001:  10%|█         | 1000/10000 [2:38:05<15:43:52,  6.29s/it, episode reward :2440.0, max X: 1235]"
     ]
    },
    {
     "name": "stdout",
     "output_type": "stream",
     "text": [
      "saving model to models/ForgetfulAgent-CNN84x84-checkpoint-Apr-06-2022-1000.pytorch\n"
     ]
    },
    {
     "name": "stderr",
     "output_type": "stream",
     "text": [
      "Episode 1403:  14%|█▍        | 1402/10000 [3:19:27<15:39:02,  6.55s/it, episode reward :2874.0, max X: 3161]"
     ]
    },
    {
     "name": "stdout",
     "output_type": "stream",
     "text": [
      "reached a flag\n",
      "{'coins': 0, 'flag_get': True, 'life': 2, 'score': 600, 'stage': 1, 'status': 'small', 'time': 153, 'world': 1, 'x_pos': 3161, 'y_pos': 120}\n"
     ]
    },
    {
     "name": "stderr",
     "output_type": "stream",
     "text": [
      "Episode 1446:  14%|█▍        | 1445/10000 [3:22:41<14:34:57,  6.14s/it, episode reward :2953.0, max X: 3161]"
     ]
    },
    {
     "name": "stdout",
     "output_type": "stream",
     "text": [
      "reached a flag\n",
      "{'coins': 2, 'flag_get': True, 'life': 2, 'score': 1500, 'stage': 1, 'status': 'small', 'time': 232, 'world': 1, 'x_pos': 3161, 'y_pos': 98}\n"
     ]
    },
    {
     "name": "stderr",
     "output_type": "stream",
     "text": [
      "Episode 1621:  16%|█▌        | 1620/10000 [3:38:34<23:06:16,  9.93s/it, episode reward :2974.0, max X: 3161]"
     ]
    },
    {
     "name": "stdout",
     "output_type": "stream",
     "text": [
      "reached a flag\n",
      "{'coins': 2, 'flag_get': True, 'life': 2, 'score': 1400, 'stage': 1, 'status': 'small', 'time': 253, 'world': 1, 'x_pos': 3161, 'y_pos': 103}\n"
     ]
    },
    {
     "name": "stderr",
     "output_type": "stream",
     "text": [
      "Episode 2001:  20%|██        | 2000/10000 [4:36:24<9:26:01,  4.25s/it, episode reward :2759.0, max X: 1240] "
     ]
    },
    {
     "name": "stdout",
     "output_type": "stream",
     "text": [
      "saving model to models/ForgetfulAgent-CNN84x84-checkpoint-Apr-06-2022-2000.pytorch\n"
     ]
    },
    {
     "name": "stderr",
     "output_type": "stream",
     "text": [
      "Episode 2047:  20%|██        | 2046/10000 [4:40:10<12:51:14,  5.82s/it, episode reward :3865.0, max X: 3161]"
     ]
    },
    {
     "name": "stdout",
     "output_type": "stream",
     "text": [
      "reached a flag\n",
      "{'coins': 2, 'flag_get': True, 'life': 0, 'score': 900, 'stage': 1, 'status': 'small', 'time': 295, 'world': 1, 'x_pos': 3161, 'y_pos': 112}\n"
     ]
    },
    {
     "name": "stderr",
     "output_type": "stream",
     "text": [
      "Episode 3000:  30%|██▉       | 2999/10000 [47:20:57<7:02:26,  3.62s/it, episode reward :1885.0, max X: 1149]       "
     ]
    },
    {
     "name": "stdout",
     "output_type": "stream",
     "text": [
      "saving model to models/ForgetfulAgent-CNN84x84-checkpoint-Apr-08-2022-3000.pytorch\n"
     ]
    },
    {
     "name": "stderr",
     "output_type": "stream",
     "text": [
      "Episode 3879:  39%|███▉      | 3878/10000 [48:26:54<9:58:04,  5.86s/it, episode reward :2967.0, max X: 3161] "
     ]
    },
    {
     "name": "stdout",
     "output_type": "stream",
     "text": [
      "reached a flag\n",
      "{'coins': 2, 'flag_get': True, 'life': 2, 'score': 1300, 'stage': 1, 'status': 'small', 'time': 246, 'world': 1, 'x_pos': 3161, 'y_pos': 116}\n"
     ]
    },
    {
     "name": "stderr",
     "output_type": "stream",
     "text": [
      "Episode 4001:  40%|████      | 4000/10000 [48:37:33<8:22:54,  5.03s/it, episode reward :1524.0, max X: 1142] "
     ]
    },
    {
     "name": "stdout",
     "output_type": "stream",
     "text": [
      "saving model to models/ForgetfulAgent-CNN84x84-checkpoint-Apr-08-2022-4000.pytorch\n"
     ]
    },
    {
     "name": "stderr",
     "output_type": "stream",
     "text": [
      "Episode 4740:  47%|████▋     | 4739/10000 [49:37:25<12:42:23,  8.69s/it, episode reward :2886.0, max X: 3161]"
     ]
    },
    {
     "name": "stdout",
     "output_type": "stream",
     "text": [
      "reached a flag\n",
      "{'coins': 2, 'flag_get': True, 'life': 2, 'score': 400, 'stage': 1, 'status': 'small', 'time': 165, 'world': 1, 'x_pos': 3161, 'y_pos': 106}\n"
     ]
    },
    {
     "name": "stderr",
     "output_type": "stream",
     "text": [
      "Episode 4861:  49%|████▊     | 4860/10000 [49:45:58<8:05:00,  5.66s/it, episode reward :3267.0, max X: 3161] "
     ]
    },
    {
     "name": "stdout",
     "output_type": "stream",
     "text": [
      "reached a flag\n",
      "{'coins': 1, 'flag_get': True, 'life': 1, 'score': 700, 'stage': 1, 'status': 'small', 'time': 295, 'world': 1, 'x_pos': 3161, 'y_pos': 120}\n"
     ]
    },
    {
     "name": "stderr",
     "output_type": "stream",
     "text": [
      "Episode 4922:  49%|████▉     | 4921/10000 [49:50:54<7:25:16,  5.26s/it, episode reward :3024.0, max X: 3161] "
     ]
    },
    {
     "name": "stdout",
     "output_type": "stream",
     "text": [
      "reached a flag\n",
      "{'coins': 4, 'flag_get': True, 'life': 2, 'score': 1800, 'stage': 1, 'status': 'small', 'time': 303, 'world': 1, 'x_pos': 3161, 'y_pos': 130}\n"
     ]
    },
    {
     "name": "stderr",
     "output_type": "stream",
     "text": [
      "Episode 5001:  50%|█████     | 5000/10000 [49:57:20<5:45:25,  4.15s/it, episode reward :1573.0, max X: 1516] "
     ]
    },
    {
     "name": "stdout",
     "output_type": "stream",
     "text": [
      "saving model to models/ForgetfulAgent-CNN84x84-checkpoint-Apr-08-2022-5000.pytorch\n"
     ]
    },
    {
     "name": "stderr",
     "output_type": "stream",
     "text": [
      "Episode 5494:  55%|█████▍    | 5493/10000 [50:34:56<8:40:12,  6.93s/it, episode reward :3704.0, max X: 3161] "
     ]
    },
    {
     "name": "stdout",
     "output_type": "stream",
     "text": [
      "reached a flag\n",
      "{'coins': 0, 'flag_get': True, 'life': 0, 'score': 300, 'stage': 1, 'status': 'small', 'time': 329, 'world': 1, 'x_pos': 3161, 'y_pos': 144}\n"
     ]
    },
    {
     "name": "stderr",
     "output_type": "stream",
     "text": [
      "Episode 5523:  55%|█████▌    | 5522/10000 [50:37:51<9:59:49,  8.04s/it, episode reward :3604.0, max X: 3161] "
     ]
    },
    {
     "name": "stdout",
     "output_type": "stream",
     "text": [
      "reached a flag\n",
      "{'coins': 2, 'flag_get': True, 'life': 0, 'score': 2000, 'stage': 1, 'status': 'small', 'time': 327, 'world': 1, 'x_pos': 3161, 'y_pos': 137}\n"
     ]
    },
    {
     "name": "stderr",
     "output_type": "stream",
     "text": [
      "Episode 5568:  56%|█████▌    | 5567/10000 [50:41:24<7:10:08,  5.82s/it, episode reward :3882.0, max X: 3161]"
     ]
    },
    {
     "name": "stdout",
     "output_type": "stream",
     "text": [
      "reached a flag\n",
      "{'coins': 0, 'flag_get': True, 'life': 0, 'score': 300, 'stage': 1, 'status': 'small', 'time': 284, 'world': 1, 'x_pos': 3161, 'y_pos': 133}\n"
     ]
    },
    {
     "name": "stderr",
     "output_type": "stream",
     "text": [
      "Episode 5652:  57%|█████▋    | 5651/10000 [50:48:30<6:35:55,  5.46s/it, episode reward :3631.0, max X: 3161]"
     ]
    },
    {
     "name": "stdout",
     "output_type": "stream",
     "text": [
      "reached a flag\n",
      "{'coins': 1, 'flag_get': True, 'life': 1, 'score': 900, 'stage': 1, 'status': 'small', 'time': 299, 'world': 1, 'x_pos': 3161, 'y_pos': 201}\n"
     ]
    },
    {
     "name": "stderr",
     "output_type": "stream",
     "text": [
      "Episode 5847:  58%|█████▊    | 5846/10000 [51:03:11<7:17:06,  6.31s/it, episode reward :4673.0, max X: 3161] "
     ]
    },
    {
     "name": "stdout",
     "output_type": "stream",
     "text": [
      "reached a flag\n",
      "{'coins': 2, 'flag_get': True, 'life': 0, 'score': 1100, 'stage': 1, 'status': 'small', 'time': 352, 'world': 1, 'x_pos': 3161, 'y_pos': 104}\n"
     ]
    },
    {
     "name": "stderr",
     "output_type": "stream",
     "text": [
      "Episode 6001:  60%|██████    | 6000/10000 [51:15:57<6:00:33,  5.41s/it, episode reward :1875.0, max X: 1133] "
     ]
    },
    {
     "name": "stdout",
     "output_type": "stream",
     "text": [
      "saving model to models/ForgetfulAgent-CNN84x84-checkpoint-Apr-08-2022-6000.pytorch\n"
     ]
    },
    {
     "name": "stderr",
     "output_type": "stream",
     "text": [
      "Episode 6202:  62%|██████▏   | 6201/10000 [51:31:14<6:27:28,  6.12s/it, episode reward :3280.0, max X: 3161]"
     ]
    },
    {
     "name": "stdout",
     "output_type": "stream",
     "text": [
      "reached a flag\n",
      "{'coins': 2, 'flag_get': True, 'life': 1, 'score': 900, 'stage': 1, 'status': 'small', 'time': 319, 'world': 1, 'x_pos': 3161, 'y_pos': 122}\n"
     ]
    },
    {
     "name": "stderr",
     "output_type": "stream",
     "text": [
      "Episode 7001:  70%|███████   | 7000/10000 [52:35:39<3:44:59,  4.50s/it, episode reward :1475.0, max X: 692]  "
     ]
    },
    {
     "name": "stdout",
     "output_type": "stream",
     "text": [
      "saving model to models/ForgetfulAgent-CNN84x84-checkpoint-Apr-08-2022-7000.pytorch\n"
     ]
    },
    {
     "name": "stderr",
     "output_type": "stream",
     "text": [
      "Episode 7888:  79%|███████▉  | 7887/10000 [53:43:12<4:54:33,  8.36s/it, episode reward :2865.0, max X: 3161]"
     ]
    },
    {
     "name": "stdout",
     "output_type": "stream",
     "text": [
      "reached a flag\n",
      "{'coins': 2, 'flag_get': True, 'life': 2, 'score': 1200, 'stage': 1, 'status': 'small', 'time': 150, 'world': 1, 'x_pos': 3161, 'y_pos': 102}\n"
     ]
    },
    {
     "name": "stderr",
     "output_type": "stream",
     "text": [
      "Episode 8001:  80%|████████  | 8000/10000 [53:52:13<2:27:48,  4.43s/it, episode reward :1835.0, max X: 723] "
     ]
    },
    {
     "name": "stdout",
     "output_type": "stream",
     "text": [
      "saving model to models/ForgetfulAgent-CNN84x84-checkpoint-Apr-08-2022-8000.pytorch\n"
     ]
    },
    {
     "name": "stderr",
     "output_type": "stream",
     "text": [
      "Episode 8316:  83%|████████▎ | 8315/10000 [54:14:44<2:26:35,  5.22s/it, episode reward :3622.0, max X: 3161]"
     ]
    },
    {
     "name": "stdout",
     "output_type": "stream",
     "text": [
      "reached a flag\n",
      "{'coins': 2, 'flag_get': True, 'life': 1, 'score': 700, 'stage': 1, 'status': 'small', 'time': 309, 'world': 1, 'x_pos': 3161, 'y_pos': 122}\n"
     ]
    },
    {
     "name": "stderr",
     "output_type": "stream",
     "text": [
      "Episode 8539:  85%|████████▌ | 8538/10000 [54:30:52<2:37:39,  6.47s/it, episode reward :3842.0, max X: 3161]"
     ]
    },
    {
     "name": "stdout",
     "output_type": "stream",
     "text": [
      "reached a flag\n",
      "{'coins': 1, 'flag_get': True, 'life': 0, 'score': 1600, 'stage': 1, 'status': 'small', 'time': 260, 'world': 1, 'x_pos': 3161, 'y_pos': 133}\n"
     ]
    },
    {
     "name": "stderr",
     "output_type": "stream",
     "text": [
      "Episode 9001:  90%|█████████ | 9000/10000 [55:08:32<1:19:35,  4.78s/it, episode reward :1792.0, max X: 678] "
     ]
    },
    {
     "name": "stdout",
     "output_type": "stream",
     "text": [
      "saving model to models/ForgetfulAgent-CNN84x84-checkpoint-Apr-08-2022-9000.pytorch\n"
     ]
    },
    {
     "name": "stderr",
     "output_type": "stream",
     "text": [
      "Episode 9078:  91%|█████████ | 9077/10000 [55:14:12<1:56:31,  7.57s/it, episode reward :2910.0, max X: 3161]"
     ]
    },
    {
     "name": "stdout",
     "output_type": "stream",
     "text": [
      "reached a flag\n",
      "{'coins': 1, 'flag_get': True, 'life': 2, 'score': 800, 'stage': 1, 'status': 'small', 'time': 189, 'world': 1, 'x_pos': 3161, 'y_pos': 97}\n"
     ]
    },
    {
     "name": "stderr",
     "output_type": "stream",
     "text": [
      "Episode 9348:  93%|█████████▎| 9347/10000 [55:36:56<1:01:32,  5.65s/it, episode reward :3010.0, max X: 3161]"
     ]
    },
    {
     "name": "stdout",
     "output_type": "stream",
     "text": [
      "reached a flag\n",
      "{'coins': 2, 'flag_get': True, 'life': 2, 'score': 900, 'stage': 1, 'status': 'small', 'time': 295, 'world': 1, 'x_pos': 3161, 'y_pos': 107}\n"
     ]
    },
    {
     "name": "stderr",
     "output_type": "stream",
     "text": [
      "Episode 9656:  97%|█████████▋| 9655/10000 [55:59:51<37:56,  6.60s/it, episode reward :4266.0, max X: 3161]  "
     ]
    },
    {
     "name": "stdout",
     "output_type": "stream",
     "text": [
      "reached a flag\n",
      "{'coins': 1, 'flag_get': True, 'life': 0, 'score': 900, 'stage': 1, 'status': 'small', 'time': 266, 'world': 1, 'x_pos': 3161, 'y_pos': 108}\n"
     ]
    },
    {
     "name": "stderr",
     "output_type": "stream",
     "text": [
      "Episode 10000: 100%|██████████| 10000/10000 [56:26:14<00:00, 20.32s/it, episode reward :1529.0, max X: 1122]"
     ]
    },
    {
     "name": "stdout",
     "output_type": "stream",
     "text": [
      "saving model to models/ForgetfulAgent-CNN84x84-checkpoint-Apr-08-2022-10000.pytorch\n"
     ]
    },
    {
     "name": "stderr",
     "output_type": "stream",
     "text": [
      "\n"
     ]
    },
    {
     "data": {
      "text/plain": [
       "<Figure size 432x288 with 0 Axes>"
      ]
     },
     "metadata": {},
     "output_type": "display_data"
    }
   ],
   "source": [
    "# try training\n",
    "\n",
    "# maxStepsPerEpisode = 10_00_0000\n",
    "learnCount = 0\n",
    "episodes = 10000\n",
    "epsRewards = []\n",
    "with tqdm(range(1, episodes+1)) as tepoch:\n",
    "    for eps in tepoch:\n",
    "        tepoch.set_description(f\"Episode {eps}\")\n",
    "        state = env.reset()\n",
    "        epsReward = 0.0\n",
    "        maxX = 0\n",
    "        # print(f\"starting episode: {eps}\")\n",
    "        # for i in range(maxStepsPerEpisode):\n",
    "        while True:\n",
    "\n",
    "            action = agent.getAction(state)\n",
    "            next_state, reward, done, info = env.step(action)\n",
    "\n",
    "            #episode stats\n",
    "            epsReward += reward\n",
    "            if info[\"x_pos\"] > maxX:\n",
    "                maxX = info[\"x_pos\"]\n",
    "                \n",
    "            \n",
    "\n",
    "            # add to memory\n",
    "            agent.cache(state, next_state, action, reward, done)\n",
    "\n",
    "            q, loss = agent.learn()\n",
    "\n",
    "            logger.log_step(reward, loss, q)\n",
    "\n",
    "            state = next_state\n",
    "\n",
    "            # if q is not None:\n",
    "            #     learnCount += 1\n",
    "            #     if learnCount % 1000 == 0:\n",
    "            #         print(f\"q:{q}, loss={loss}\")\n",
    "\n",
    "            if info[\"flag_get\"]:\n",
    "                print(f\"reached a flag\")\n",
    "                print(info)\n",
    "\n",
    "            if done or info[\"flag_get\"]:\n",
    "                break\n",
    "\n",
    "        # print(f\"done: {done},\\n info: {info}\")\n",
    "        logger.log_episode()\n",
    "        if eps % 100 == 0:\n",
    "            logger.record(episode=eps, epsilon=agent.exploration_rate, step=agent.current_step)\n",
    "            # print(info)\n",
    "            # agent.save(dir=\"models/\", epoch=eps)\n",
    "        if eps % 1000 == 0:\n",
    "            # print(info)\n",
    "            agent.save(dir=\"models/\", epoch=eps)\n",
    "\n",
    "        epsRewards.append(epsReward)\n",
    "        tepoch.set_postfix_str(f\"episode reward :{epsReward}, max X: {maxX}\")\n",
    "        # print(\"Total reward after episode {} is {}\".format(eps, epsReward))\n",
    "        "
   ]
  },
  {
   "cell_type": "code",
   "execution_count": 20,
   "metadata": {},
   "outputs": [
    {
     "name": "stdout",
     "output_type": "stream",
     "text": [
      "shape before any transformations: (240, 256, 3)\n",
      "shape after grayscaler: (240, 256)\n",
      "shape after resizer: (84, 84)\n",
      "shape after all transformations: (5, 84, 84)\n"
     ]
    }
   ],
   "source": [
    "\n",
    "env = gym_super_mario_bros.make('SuperMarioBros-v0')\n",
    "env = JoypadSpace(env, JoypadActions.SIMPLE_MOVEMENT)\n",
    "env = EnvWrapperFactory.convert(env, shape=imageShape)\n",
    "\n",
    "\n",
    "done = True\n",
    "count = 0 \n",
    "for step in range(10000):\n",
    "    if done:\n",
    "        count += 1\n",
    "        if count > 2:\n",
    "            break\n",
    "        state = env.reset()\n",
    "    # state, reward, done, info = env.step(agent.getBestAction(state))\n",
    "    state, reward, done, info = env.step(agent.getAction(state))\n",
    "    # state, reward, done, info = env.step(agent._exploit(state))\n",
    "    env.render()\n",
    "env.close()"
   ]
  },
  {
   "cell_type": "code",
   "execution_count": 11,
   "metadata": {},
   "outputs": [
    {
     "name": "stdout",
     "output_type": "stream",
     "text": [
      "saving model to models/ForgetfulAgent-CNN84x84-checkpoint-9999.pytorch\n"
     ]
    }
   ],
   "source": [
    "agent.save(dir=\"models/\", epoch=eps)"
   ]
  },
  {
   "cell_type": "code",
   "execution_count": 15,
   "metadata": {},
   "outputs": [
    {
     "name": "stdout",
     "output_type": "stream",
     "text": [
      "0.12048704660553211\n"
     ]
    }
   ],
   "source": [
    "print(agent.exploration_rate)"
   ]
  },
  {
   "cell_type": "code",
   "execution_count": null,
   "metadata": {},
   "outputs": [],
   "source": []
  }
 ],
 "metadata": {
  "kernelspec": {
   "display_name": "Python 3 (ipykernel)",
   "language": "python",
   "name": "python3"
  },
  "language_info": {
   "codemirror_mode": {
    "name": "ipython",
    "version": 3
   },
   "file_extension": ".py",
   "mimetype": "text/x-python",
   "name": "python",
   "nbconvert_exporter": "python",
   "pygments_lexer": "ipython3",
   "version": "3.7.9"
  }
 },
 "nbformat": 4,
 "nbformat_minor": 4
}
